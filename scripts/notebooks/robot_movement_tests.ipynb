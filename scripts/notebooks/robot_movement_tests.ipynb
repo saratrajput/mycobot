{
 "cells": [
  {
   "cell_type": "code",
   "execution_count": 1,
   "metadata": {},
   "outputs": [],
   "source": [
    "from pymycobot.mycobot import MyCobot\n",
    "from pymycobot.genre import Angle\n",
    "# Variables needed to initialize MyCobot Pi\n",
    "from pymycobot import PI_PORT, PI_BAUD\n",
    "import time"
   ]
  },
  {
   "cell_type": "code",
   "execution_count": 2,
   "metadata": {},
   "outputs": [],
   "source": [
    "# Initialize MyCobot object\n",
    "mc = MyCobot(PI_PORT, PI_BAUD)"
   ]
  },
  {
   "cell_type": "code",
   "execution_count": 3,
   "metadata": {},
   "outputs": [
    {
     "name": "stdout",
     "output_type": "stream",
     "text": [
      "[-82.96, 104.58, 80.33, -88.15, -93.51, -78.66]\n"
     ]
    }
   ],
   "source": [
    "# Get the coordinates of the current location\n",
    "angle_datas = mc.get_angles()\n",
    "print(angle_datas)"
   ]
  },
  {
   "cell_type": "code",
   "execution_count": 4,
   "metadata": {},
   "outputs": [],
   "source": [
    "# Set zero position and speed\n",
    "zero_position = [0, 0, 0, 0, 0, 0]\n",
    "# If you decrease speed increase the sleep time\n",
    "speed = 30"
   ]
  },
  {
   "cell_type": "code",
   "execution_count": 5,
   "metadata": {},
   "outputs": [
    {
     "name": "stdout",
     "output_type": "stream",
     "text": [
      "-1\n"
     ]
    }
   ],
   "source": [
    "# Use the number sequence to pass the coordinate parameters, so that the robot\n",
    "# arm can move to the specified position\n",
    "mc.send_angles(zero_position, speed)\n",
    "print(mc.is_paused())\n",
    "time.sleep(2.5)"
   ]
  },
  {
   "cell_type": "code",
   "execution_count": 16,
   "metadata": {},
   "outputs": [],
   "source": [
    "mc.set_color(0,255, 255)"
   ]
  },
  {
   "cell_type": "markdown",
   "metadata": {},
   "source": [
    "### Gripper Test"
   ]
  },
  {
   "cell_type": "code",
   "execution_count": 13,
   "metadata": {},
   "outputs": [],
   "source": [
    "mc.set_gripper_ini()"
   ]
  },
  {
   "cell_type": "code",
   "execution_count": 14,
   "metadata": {},
   "outputs": [],
   "source": [
    "mc.set_encoder(7, 2048)"
   ]
  },
  {
   "cell_type": "code",
   "execution_count": 31,
   "metadata": {},
   "outputs": [],
   "source": [
    "mc.send_angle(Angle.J1.value, 90, speed)\n",
    "time.sleep(2)"
   ]
  },
  {
   "cell_type": "code",
   "execution_count": 21,
   "metadata": {},
   "outputs": [],
   "source": [
    "mc.send_angle(Angle.J6.value, 137, speed)\n",
    "time.sleep(1.5)"
   ]
  },
  {
   "cell_type": "code",
   "execution_count": 37,
   "metadata": {},
   "outputs": [],
   "source": [
    "pos_1 = [90, 0, 0, 0, 50, 0]\n",
    "pos_2 = [90, 0, 0, -30, 0, 0]\n",
    "pos_3 = [90, 0, 0, 0, -50, 0]"
   ]
  },
  {
   "cell_type": "code",
   "execution_count": 23,
   "metadata": {},
   "outputs": [],
   "source": [
    "for i in range(2):\n",
    "    mc.send_angle(Angle.J5.value, 50, speed)\n",
    "    time.sleep(1.5)\n",
    "    \n",
    "    mc.send_angle(Angle.J4.value, -50, speed)\n",
    "    time.sleep(1.5)\n",
    "    \n",
    "    mc.send_angle(Angle.J5.value, -50, speed)\n",
    "    time.sleep(1.5)"
   ]
  },
  {
   "cell_type": "code",
   "execution_count": 42,
   "metadata": {},
   "outputs": [],
   "source": [
    "for i in range(8):\n",
    "    mc.send_angles(pos_3, speed)\n",
    "    time.sleep(1.5)\n",
    "    \n",
    "    mc.send_angles(pos_2, speed)\n",
    "    time.sleep(0.5)\n",
    "    \n",
    "    mc.send_angles(pos_1, speed)\n",
    "    time.sleep(1.5)\n",
    "    \n",
    "    mc.send_angles(pos_2, speed)\n",
    "    time.sleep(0.5)\n",
    "    \n",
    "mc.send_angles(pos_3, speed)\n",
    "time.sleep(1.5)"
   ]
  },
  {
   "cell_type": "code",
   "execution_count": null,
   "metadata": {},
   "outputs": [],
   "source": []
  }
 ],
 "metadata": {
  "kernelspec": {
   "display_name": "Python 3 (ipykernel)",
   "language": "python",
   "name": "python3"
  },
  "language_info": {
   "codemirror_mode": {
    "name": "ipython",
    "version": 3
   },
   "file_extension": ".py",
   "mimetype": "text/x-python",
   "name": "python",
   "nbconvert_exporter": "python",
   "pygments_lexer": "ipython3",
   "version": "3.7.3"
  }
 },
 "nbformat": 4,
 "nbformat_minor": 4
}
